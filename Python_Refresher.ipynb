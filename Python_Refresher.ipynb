{
  "nbformat": 4,
  "nbformat_minor": 0,
  "metadata": {
    "colab": {
      "provenance": [],
      "authorship_tag": "ABX9TyP5dXl6+csrOWeGMr982XMS",
      "include_colab_link": true
    },
    "kernelspec": {
      "name": "python3",
      "display_name": "Python 3"
    },
    "language_info": {
      "name": "python"
    }
  },
  "cells": [
    {
      "cell_type": "markdown",
      "metadata": {
        "id": "view-in-github",
        "colab_type": "text"
      },
      "source": [
        "<a href=\"https://colab.research.google.com/github/CynthiaWKamau/AI-Coursework-2025/blob/main/Python_Refresher.ipynb\" target=\"_parent\"><img src=\"https://colab.research.google.com/assets/colab-badge.svg\" alt=\"Open In Colab\"/></a>"
      ]
    },
    {
      "cell_type": "code",
      "source": [
        "  #Calculate  number of seconds in a day\n",
        "  seconds_in_days = 24*3600\n",
        "\n",
        "  #Prompts user to input the number of days\n",
        "  days = int(input(\"Enter number of days:\"))\n",
        "\n",
        "  # Total number of seconds\n",
        "  total_seconds = days * seconds_in_days\n",
        "\n",
        "  #Print Final Result\n",
        "  print(f\"There are {total_seconds} seconds in {days} days.\")\n"
      ],
      "metadata": {
        "colab": {
          "base_uri": "https://localhost:8080/"
        },
        "id": "_w-ih178e5eO",
        "outputId": "8415cd30-fb34-4795-894a-02e970e41af3"
      },
      "execution_count": null,
      "outputs": [
        {
          "output_type": "stream",
          "name": "stdout",
          "text": [
            "Enter number of days:5\n",
            "There are 432000 seconds in 5 days.\n"
          ]
        }
      ]
    },
    {
      "cell_type": "code",
      "source": [
        "#Prompt user to enter radius\n",
        "radius = float(input(\"Enter radius:\"))\n",
        "\n",
        "#Volume formula\n",
        "volume = (4/3) * 3.14 * (radius ** 3)\n",
        "\n",
        "#Result\n",
        "print(f\"The volume of the sphere is {volume}.\")\n",
        "\n"
      ],
      "metadata": {
        "colab": {
          "base_uri": "https://localhost:8080/"
        },
        "id": "le5eGnMfiVRC",
        "outputId": "7a63be96-b852-4382-d91d-14967c70a7fb"
      },
      "execution_count": null,
      "outputs": [
        {
          "output_type": "stream",
          "name": "stdout",
          "text": [
            "Enter radius:5.5\n",
            "The volume of the sphere is 696.5566666666666.\n"
          ]
        }
      ]
    },
    {
      "cell_type": "code",
      "source": [
        "#Area of a square\n",
        "def area_of_square(side):\n",
        "  return side*side\n",
        "\n",
        "#Perimeter of square\n",
        "def perimeter_of_square(side):\n",
        "  return 4*side\n",
        "\n",
        "def main ():\n",
        "        #Prompt user to input side\n",
        "        side = float(input(\"Enter the side length of the square: \"))\n",
        "\n",
        "\n",
        "        #Area and perimeter computation\n",
        "        area = area_of_square(side)\n",
        "        perimeter = perimeter_of_square(side)\n",
        "\n",
        "        #Result\n",
        "        print(f\"The area of the square is {area}.\")\n",
        "        print(f\"The perimeter of the square is {perimeter}.\")\n",
        "\n",
        "#run\n",
        "main()\n"
      ],
      "metadata": {
        "colab": {
          "base_uri": "https://localhost:8080/"
        },
        "id": "zKHjFzXdlG67",
        "outputId": "4a35f4c2-19d2-407a-fb3b-c3e95763ddfc"
      },
      "execution_count": null,
      "outputs": [
        {
          "output_type": "stream",
          "name": "stdout",
          "text": [
            "Enter the side length of the square: 8.8\n",
            "The area of the square is 77.44000000000001.\n",
            "The perimeter of the square is 35.2.\n"
          ]
        }
      ]
    },
    {
      "cell_type": "code",
      "source": [
        "#Check case of character\n",
        "def case_checker(char):\n",
        "  if char.isupper():\n",
        "      return \"uppercase\"\n",
        "  elif char.islower():\n",
        "      return \"lowercase\"\n",
        "  else:\n",
        "      return \"neither uppercase nor lowercase\"\n",
        "\n",
        "def main():\n",
        "      #Prompt user to enter a character\n",
        "      char = input(\"Enter a character:\")\n",
        "      #Result\n",
        "      result = case_checker(char)\n",
        "      print(f\"The character {char} is {result}.\")\n",
        "\n",
        "#run\n",
        "main()"
      ],
      "metadata": {
        "colab": {
          "base_uri": "https://localhost:8080/"
        },
        "id": "Xeosm3VIo4Jy",
        "outputId": "2ad1307c-1dc5-4f0c-90fe-629c3bac37d8"
      },
      "execution_count": null,
      "outputs": [
        {
          "output_type": "stream",
          "name": "stdout",
          "text": [
            "Enter a character:y\n",
            "The character y is lowercase.\n"
          ]
        }
      ]
    },
    {
      "cell_type": "code",
      "source": [
        "#Initialization of variables\n",
        "x=0\n",
        "y=20\n",
        "\n",
        "#while loop\n",
        "while y>=6:\n",
        "  y=y-4\n",
        "  x=x+(2/y)\n",
        "\n",
        "#Result\n",
        "print(f\"The value of x is:\", x)"
      ],
      "metadata": {
        "colab": {
          "base_uri": "https://localhost:8080/"
        },
        "id": "4icvYZGztCzK",
        "outputId": "add2c2c0-2959-4e8f-d006-8b1378ba0994"
      },
      "execution_count": null,
      "outputs": [
        {
          "output_type": "stream",
          "name": "stdout",
          "text": [
            "The value of x is: 1.0416666666666665\n"
          ]
        }
      ]
    },
    {
      "cell_type": "code",
      "source": [
        "#Initialize empty list\n",
        "values=[]\n",
        "i=0\n",
        "\n",
        "#Loop with 5 numbers\n",
        "while i<5:\n",
        "  value=float(input(f\"Enter value {i+1}:\"))\n",
        "  values.append(value)\n",
        "  i+=1\n",
        "\n",
        "#Average\n",
        "average=sum(values)/len(values)\n",
        "\n",
        "#Result\n",
        "print(\"The values entered are:\",values)\n",
        "print(f\"The average of the values is {average}\")\n"
      ],
      "metadata": {
        "colab": {
          "base_uri": "https://localhost:8080/"
        },
        "id": "hcuerxi-vp3s",
        "outputId": "7537e546-7bd2-4997-8623-69548f42dac5"
      },
      "execution_count": null,
      "outputs": [
        {
          "output_type": "stream",
          "name": "stdout",
          "text": [
            "Enter value 1:3\n",
            "Enter value 2:6\n",
            "Enter value 3:8\n",
            "Enter value 4:9\n",
            "Enter value 5:0\n",
            "The values entered are: [3.0, 6.0, 8.0, 9.0, 0.0]\n",
            "The average of the values is 5.2\n"
          ]
        }
      ]
    },
    {
      "cell_type": "markdown",
      "source": [],
      "metadata": {
        "id": "lFQFzDOKXfbI"
      }
    }
  ]
}